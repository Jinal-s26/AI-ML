{
 "cells": [
  {
   "cell_type": "markdown",
   "id": "cf99d5c1",
   "metadata": {},
   "source": [
    "MAGIC SQUARE"
   ]
  },
  {
   "cell_type": "code",
   "execution_count": 1,
   "id": "62e4e79a",
   "metadata": {},
   "outputs": [
    {
     "name": "stdout",
     "output_type": "stream",
     "text": [
      "Enter size of matrix: 4\n"
     ]
    },
    {
     "ename": "IndexError",
     "evalue": "index 4 is out of bounds for axis 0 with size 4",
     "output_type": "error",
     "traceback": [
      "\u001b[1;31m---------------------------------------------------------------------------\u001b[0m",
      "\u001b[1;31mIndexError\u001b[0m                                Traceback (most recent call last)",
      "\u001b[1;32m~\\AppData\\Local\\Temp/ipykernel_21364/3721048920.py\u001b[0m in \u001b[0;36m<module>\u001b[1;34m\u001b[0m\n\u001b[0;32m     20\u001b[0m \u001b[1;33m\u001b[0m\u001b[0m\n\u001b[0;32m     21\u001b[0m \u001b[0msize\u001b[0m \u001b[1;33m=\u001b[0m \u001b[0mint\u001b[0m\u001b[1;33m(\u001b[0m\u001b[0minput\u001b[0m\u001b[1;33m(\u001b[0m\u001b[1;34m\"Enter size of matrix: \"\u001b[0m\u001b[1;33m)\u001b[0m\u001b[1;33m)\u001b[0m\u001b[1;33m\u001b[0m\u001b[1;33m\u001b[0m\u001b[0m\n\u001b[1;32m---> 22\u001b[1;33m \u001b[0mgenerateMagicSquare\u001b[0m\u001b[1;33m(\u001b[0m\u001b[0msize\u001b[0m\u001b[1;33m)\u001b[0m\u001b[1;33m\u001b[0m\u001b[1;33m\u001b[0m\u001b[0m\n\u001b[0m",
      "\u001b[1;32m~\\AppData\\Local\\Temp/ipykernel_21364/3721048920.py\u001b[0m in \u001b[0;36mgenerateMagicSquare\u001b[1;34m(size)\u001b[0m\n\u001b[0;32m      8\u001b[0m \u001b[1;33m\u001b[0m\u001b[0m\n\u001b[0;32m      9\u001b[0m     \u001b[1;32mwhile\u001b[0m \u001b[0mnum\u001b[0m \u001b[1;33m<=\u001b[0m \u001b[0msize\u001b[0m\u001b[1;33m**\u001b[0m\u001b[1;36m2\u001b[0m\u001b[1;33m:\u001b[0m     \u001b[1;31m# filling the matrix\u001b[0m\u001b[1;33m\u001b[0m\u001b[1;33m\u001b[0m\u001b[0m\n\u001b[1;32m---> 10\u001b[1;33m         \u001b[0mMatrix\u001b[0m\u001b[1;33m[\u001b[0m\u001b[0mi\u001b[0m\u001b[1;33m]\u001b[0m\u001b[1;33m[\u001b[0m\u001b[0mj\u001b[0m\u001b[1;33m]\u001b[0m \u001b[1;33m=\u001b[0m \u001b[0mnum\u001b[0m\u001b[1;33m\u001b[0m\u001b[1;33m\u001b[0m\u001b[0m\n\u001b[0m\u001b[0;32m     11\u001b[0m         \u001b[0mnum\u001b[0m\u001b[1;33m+=\u001b[0m\u001b[1;36m1\u001b[0m\u001b[1;33m\u001b[0m\u001b[1;33m\u001b[0m\u001b[0m\n\u001b[0;32m     12\u001b[0m         \u001b[0mni\u001b[0m \u001b[1;33m=\u001b[0m \u001b[1;33m(\u001b[0m\u001b[0mi\u001b[0m\u001b[1;33m-\u001b[0m\u001b[1;36m1\u001b[0m\u001b[1;33m)\u001b[0m\u001b[1;33m%\u001b[0m\u001b[0msize\u001b[0m      \u001b[1;31m# next move\u001b[0m\u001b[1;33m\u001b[0m\u001b[1;33m\u001b[0m\u001b[0m\n",
      "\u001b[1;31mIndexError\u001b[0m: index 4 is out of bounds for axis 0 with size 4"
     ]
    }
   ],
   "source": [
    "import numpy as np\n",
    "\n",
    "def generateMagicSquare(size):\n",
    "    Matrix = np.zeros((size,size), dtype = int) # zeros size of matrix\n",
    "    num = 1       # starting number\n",
    "    i = 0         # row index\n",
    "    j = size//2   # column index\n",
    "    \n",
    "    while num <= size**2:     # filling the matrix\n",
    "        Matrix[i][j] = num   \n",
    "        num+=1\n",
    "        ni = (i-1)%size      # next move \n",
    "        nj = (j+1)%size      # next move\n",
    "        if Matrix[ni,nj]:    # if there is any value in the place it will move down\n",
    "            i+=1\n",
    "        else:                # otherwise it will place next num in up right side\n",
    "            i = ni\n",
    "            j = nj\n",
    "    print(Matrix)\n",
    "    \n",
    "size = int(input(\"Enter size of matrix: \"))\n",
    "generateMagicSquare(size)"
   ]
  },
  {
   "cell_type": "markdown",
   "id": "03892c33",
   "metadata": {},
   "source": [
    "SUDOKU"
   ]
  },
  {
   "cell_type": "code",
   "execution_count": 31,
   "id": "cc69ae9c",
   "metadata": {},
   "outputs": [
    {
     "name": "stdout",
     "output_type": "stream",
     "text": [
      "[[0 0 0 3 0 1 0 9 0]\n",
      " [5 0 0 6 0 0 1 0 0]\n",
      " [0 0 9 0 0 0 0 0 8]\n",
      " [0 0 0 7 0 0 0 3 0]\n",
      " [0 7 4 2 0 8 0 0 0]\n",
      " [0 0 5 0 0 9 0 0 6]\n",
      " [0 0 0 5 0 0 0 0 0]\n",
      " [0 6 0 0 0 0 0 7 3]\n",
      " [0 0 0 0 7 0 8 0 0]]\n"
     ]
    }
   ],
   "source": [
    "size = 9\n",
    "Matrix = np.array([[0,0,0,3,0,1,0,9,0], [5,0,0,6,0,0,1,0,0],[0,0,9,0,0,0,0,0,8], [0,0,0,7,0,0,0,3,0], [0,7,4,2,0,8,0,0,0], [0,0,5,0,0,9,0,0,6], [0,0,0,5,0,0,0,0,0],[0,6,0,0,0,0,0,7,3],[0,0,0,0,7,0,8,0,0]])\n",
    "print(Matrix)\n",
    "\n",
    "def checkrow(grid,row,num):\n",
    "    for(i in range(9)):\n",
    "        if(Matrix[row][i]==num):\n",
    "            return -1\n",
    "\n",
    "def checkcolumnm(grid,col,num):\n",
    "    for(i in range(9)):\n",
    "        if(Matrix[i][col]==num):\n",
    "            return -1\n",
    "def checkbox(Matrix, row, col, num):\n",
    "    for i in range(3 *(row//3)):\n",
    "        for j in range(3 *(col//3)):\n",
    "            if(Matrix[i][j]==num):\n",
    "                return -1\n",
    "    "
   ]
  },
  {
   "cell_type": "code",
   "execution_count": 37,
   "id": "b8918360",
   "metadata": {},
   "outputs": [
    {
     "name": "stdout",
     "output_type": "stream",
     "text": [
      "Hello\n"
     ]
    }
   ],
   "source": [
    "Matrix = np.array([0,0,0,3,0,1,0,9,0])\n",
    "for i in range(9):\n",
    "    if(Matrix[i]==3):\n",
    "        print(\"Hello\")"
   ]
  },
  {
   "cell_type": "code",
   "execution_count": null,
   "id": "c6eb971f",
   "metadata": {},
   "outputs": [],
   "source": []
  }
 ],
 "metadata": {
  "kernelspec": {
   "display_name": "Python 3 (ipykernel)",
   "language": "python",
   "name": "python3"
  },
  "language_info": {
   "codemirror_mode": {
    "name": "ipython",
    "version": 3
   },
   "file_extension": ".py",
   "mimetype": "text/x-python",
   "name": "python",
   "nbconvert_exporter": "python",
   "pygments_lexer": "ipython3",
   "version": "3.9.7"
  }
 },
 "nbformat": 4,
 "nbformat_minor": 5
}
