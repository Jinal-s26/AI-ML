{
 "cells": [
  {
   "cell_type": "code",
   "execution_count": 11,
   "metadata": {},
   "outputs": [
    {
     "name": "stdout",
     "output_type": "stream",
     "text": [
      "[[1 2 3]\n",
      " [4 0 6]\n",
      " [7 5 8]]\n",
      "[[1 2 3]\n",
      " [4 5 6]\n",
      " [7 0 8]]\n",
      "[[1 2 3]\n",
      " [4 5 6]\n",
      " [7 8 0]]\n",
      "total moves: 3\n"
     ]
    },
    {
     "data": {
      "text/plain": [
       "array([[1, 2, 3],\n",
       "       [4, 5, 6],\n",
       "       [7, 8, 0]])"
      ]
     },
     "execution_count": 11,
     "metadata": {},
     "output_type": "execute_result"
    }
   ],
   "source": [
    "import numpy as np\n",
    "\n",
    "def solve():\n",
    "    global ins\n",
    "    global gs\n",
    "    move=0\n",
    "    while(ins!=gs):\n",
    "        poss_routes,z_arr=possible_routes(ins)\n",
    "        curr_manhattan_distance=100000\n",
    "        best_move=[]\n",
    "        for i in poss_routes:\n",
    "            ins[i[0]][i[1]],ins[z_arr[0]][z_arr[1]]=ins[z_arr[0]][z_arr[1]],ins[i[0]][i[1]]\n",
    "            sum_manhattan_distance=0\n",
    "            for j in range(3):\n",
    "                for k in range(3):\n",
    "                    if(ins[j][k]!=0):\n",
    "                        sum_manhattan_distance+=manhattan_distance(ins,gs,ins[j][k])\n",
    "            if(sum_manhattan_distance<curr_manhattan_distance):\n",
    "                curr_manhattan_distance=sum_manhattan_distance\n",
    "                best_move=i\n",
    "            ins[i[0]][i[1]],ins[z_arr[0]][z_arr[1]]=ins[z_arr[0]][z_arr[1]],ins[i[0]][i[1]]\n",
    "        ins[best_move[0]][best_move[1]],ins[z_arr[0]][z_arr[1]]=ins[z_arr[0]][z_arr[1]],ins[best_move[0]][best_move[1]]\n",
    "        move+=1\n",
    "        print(np.array(ins))\n",
    "    print(f'total moves: {move}')\n",
    "    \n",
    "def manhattan_distance(ins,gs,num):\n",
    "    insarr=[]\n",
    "    gsarr=[]\n",
    "    for i in range(3):\n",
    "        for j in range(3):\n",
    "            if(ins[i][j]==num):\n",
    "                insarr=[i,j]\n",
    "            if(gs[i][j]==num):\n",
    "                gsarr=[i,j]\n",
    "\n",
    "    distance=abs(insarr[0]-gsarr[0])+abs(insarr[1]-gsarr[1])\n",
    "    \n",
    "    return distance\n",
    "\n",
    "ins=[[1,2,3],\n",
    "    [0,4,6],\n",
    "    [7,5,8]]\n",
    "\n",
    "gs=[[1,2,3],\n",
    "    [4,5,6],\n",
    "    [7,8,0]]\n",
    "\n",
    "manhattan_distance(ins,gs,2)\n",
    "\n",
    "def possible_routes(ins):\n",
    "    z_arr=[]\n",
    "    for i in range(3):\n",
    "        for j in range(3):\n",
    "            if(ins[i][j]==0):\n",
    "                z_arr=[i,j]\n",
    "                break\n",
    "    poss_routes=[]\n",
    "#     up\n",
    "    if((z_arr[0]-1)>=0):\n",
    "        poss_routes.append([z_arr[0]-1,z_arr[1]])\n",
    "#     down\n",
    "    if(z_arr[0]+1<3):\n",
    "        poss_routes.append([z_arr[0]+1,z_arr[1]])\n",
    "#         right\n",
    "    if(z_arr[1]+1<3):\n",
    "        poss_routes.append([z_arr[0],z_arr[1]+1])\n",
    "#         left\n",
    "    if(z_arr[1]-1>=0):\n",
    "        poss_routes.append([z_arr[0],z_arr[1]-1])\n",
    "    return poss_routes,z_arr\n",
    "\n",
    "possible_routes(ins)\n",
    "\n",
    "\n",
    "\n",
    "    \n",
    "solve()  \n",
    "np.array(ins)"
   ]
  },
  {
   "cell_type": "code",
   "execution_count": null,
   "metadata": {},
   "outputs": [],
   "source": []
  }
 ],
 "metadata": {
  "kernelspec": {
   "display_name": "Python 3 (ipykernel)",
   "language": "python",
   "name": "python3"
  },
  "language_info": {
   "codemirror_mode": {
    "name": "ipython",
    "version": 3
   },
   "file_extension": ".py",
   "mimetype": "text/x-python",
   "name": "python",
   "nbconvert_exporter": "python",
   "pygments_lexer": "ipython3",
   "version": "3.9.7"
  }
 },
 "nbformat": 4,
 "nbformat_minor": 4
}
